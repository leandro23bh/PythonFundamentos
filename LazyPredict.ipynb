{
  "nbformat": 4,
  "nbformat_minor": 0,
  "metadata": {
    "colab": {
      "name": "LazyPredict.ipynb",
      "provenance": [],
      "authorship_tag": "ABX9TyPD4E7M0UiAVs5KDmzO34/j",
      "include_colab_link": true
    },
    "kernelspec": {
      "name": "python3",
      "display_name": "Python 3"
    },
    "language_info": {
      "name": "python"
    }
  },
  "cells": [
    {
      "cell_type": "markdown",
      "metadata": {
        "id": "view-in-github",
        "colab_type": "text"
      },
      "source": [
        "<a href=\"https://colab.research.google.com/github/leandro23bh/PythonFundamentos/blob/master/LazyPredict.ipynb\" target=\"_parent\"><img src=\"https://colab.research.google.com/assets/colab-badge.svg\" alt=\"Open In Colab\"/></a>"
      ]
    },
    {
      "cell_type": "markdown",
      "metadata": {
        "id": "KQ6lWYLBTQ74"
      },
      "source": [
        "*LazyPredict*\n",
        "Verifica a acuracia para varios tipos de modelos."
      ]
    },
    {
      "cell_type": "code",
      "metadata": {
        "colab": {
          "base_uri": "https://localhost:8080/"
        },
        "id": "3vOD7dEmO4in",
        "outputId": "1f0702f6-de56-46e2-969c-5dd0a6869e91"
      },
      "source": [
        "import lazypredict\n",
        "\n",
        "from lazypredict.Supervised import LazyClassifier\n",
        "from sklearn.datasets import load_breast_cancer\n",
        "from sklearn.model_selection import train_test_split\n",
        "\n",
        "# Carregar o dataset de cancer\n",
        "data = load_breast_cancer()\n",
        "\n",
        "#dados de treino\n",
        "X = data.data\n",
        "\n",
        "#dados de teste\n",
        "y= data.target\n",
        "\n",
        "X_train, X_test, y_train, y_test = train_test_split(X, y,test_size=.5,random_state =123)\n",
        "\n",
        "clf = LazyClassifier(verbose=0,ignore_warnings=True, custom_metric=None)\n",
        "models,predictions = clf.fit(X_train, X_test, y_train, y_test)\n",
        "print(models)"
      ],
      "execution_count": 2,
      "outputs": [
        {
          "output_type": "stream",
          "text": [
            "100%|██████████| 29/29 [00:01<00:00, 24.60it/s]"
          ],
          "name": "stderr"
        },
        {
          "output_type": "stream",
          "text": [
            "                               Accuracy  ...  Time Taken\n",
            "Model                                    ...            \n",
            "LinearSVC                          0.99  ...        0.02\n",
            "Perceptron                         0.99  ...        0.02\n",
            "LogisticRegression                 0.99  ...        0.03\n",
            "SVC                                0.98  ...        0.03\n",
            "XGBClassifier                      0.98  ...        0.11\n",
            "LabelPropagation                   0.98  ...        0.03\n",
            "LabelSpreading                     0.98  ...        0.03\n",
            "BaggingClassifier                  0.97  ...        0.05\n",
            "PassiveAggressiveClassifier        0.98  ...        0.02\n",
            "SGDClassifier                      0.98  ...        0.02\n",
            "RandomForestClassifier             0.97  ...        0.18\n",
            "CalibratedClassifierCV             0.98  ...        0.04\n",
            "QuadraticDiscriminantAnalysis      0.96  ...        0.01\n",
            "ExtraTreesClassifier               0.97  ...        0.13\n",
            "RidgeClassifierCV                  0.97  ...        0.02\n",
            "LGBMClassifier                     0.96  ...        0.08\n",
            "RidgeClassifier                    0.97  ...        0.02\n",
            "AdaBoostClassifier                 0.96  ...        0.14\n",
            "KNeighborsClassifier               0.96  ...        0.03\n",
            "BernoulliNB                        0.95  ...        0.01\n",
            "LinearDiscriminantAnalysis         0.96  ...        0.03\n",
            "GaussianNB                         0.95  ...        0.02\n",
            "NuSVC                              0.95  ...        0.03\n",
            "ExtraTreeClassifier                0.94  ...        0.01\n",
            "NearestCentroid                    0.95  ...        0.02\n",
            "DecisionTreeClassifier             0.93  ...        0.02\n",
            "DummyClassifier                    0.53  ...        0.01\n",
            "\n",
            "[27 rows x 5 columns]\n"
          ],
          "name": "stdout"
        },
        {
          "output_type": "stream",
          "text": [
            "\n"
          ],
          "name": "stderr"
        }
      ]
    },
    {
      "cell_type": "code",
      "metadata": {
        "colab": {
          "base_uri": "https://localhost:8080/"
        },
        "id": "ywAPXKToPKQP",
        "outputId": "c10cf312-99e8-4e3b-f174-770ab82fcb29"
      },
      "source": [
        ""
      ],
      "execution_count": 7,
      "outputs": [
        {
          "output_type": "execute_result",
          "data": {
            "text/plain": [
              "sklearn.utils.Bunch"
            ]
          },
          "metadata": {
            "tags": []
          },
          "execution_count": 7
        }
      ]
    }
  ]
}