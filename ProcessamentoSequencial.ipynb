{
  "nbformat": 4,
  "nbformat_minor": 0,
  "metadata": {
    "colab": {
      "name": "ProcessamentoSequencial.ipynb",
      "provenance": [],
      "authorship_tag": "ABX9TyOR9KOf59hnXSZ0gL09iLiD",
      "include_colab_link": true
    },
    "kernelspec": {
      "name": "python3",
      "display_name": "Python 3"
    },
    "language_info": {
      "name": "python"
    }
  },
  "cells": [
    {
      "cell_type": "markdown",
      "metadata": {
        "id": "view-in-github",
        "colab_type": "text"
      },
      "source": [
        "<a href=\"https://colab.research.google.com/github/leandro23bh/PythonFundamentos/blob/master/ProcessamentoSequencial.ipynb\" target=\"_parent\"><img src=\"https://colab.research.google.com/assets/colab-badge.svg\" alt=\"Open In Colab\"/></a>"
      ]
    },
    {
      "cell_type": "code",
      "metadata": {
        "id": "F5VbT7WQENUM"
      },
      "source": [
        "import json\n",
        "import pandas as pd\n",
        "from tqdm import tqdm\n",
        "from time import sleep, time\n",
        "from multiprocessing.pool import ThreadPool\n",
        "import seaborn as sns\n",
        "import matplotlib.pyplot as plt\n",
        "import requests as requests"
      ],
      "execution_count": null,
      "outputs": []
    },
    {
      "cell_type": "code",
      "metadata": {
        "id": "awho6T-GPwUm"
      },
      "source": [
        " #Requisição dos dados dos Deputados\n",
        "url        = 'https://dadosabertos.camara.leg.br/api/v2/deputados'\n",
        "parametros = {}\n",
        "resposta   = requests.request(\"GET\", url, params=parametros)\n",
        "objetos    = json.loads(resposta.text)\n",
        "dados      = objetos['dados']"
      ],
      "execution_count": null,
      "outputs": []
    },
    {
      "cell_type": "code",
      "metadata": {
        "id": "wgvt5H-HYWe3"
      },
      "source": [
        "id = []\n",
        "for i in range(len(dados)):\n",
        "    id.append(str(dados[i]['id']))"
      ],
      "execution_count": null,
      "outputs": []
    },
    {
      "cell_type": "code",
      "metadata": {
        "id": "c90T4gZJYYSO"
      },
      "source": [
        "# Requisição dos dados detalhes dos Deputados\n",
        "def detalhe_deputado(id):\n",
        "  url        = 'https://dadosabertos.camara.leg.br/api/v2/deputados/' + id\n",
        "  parametros = {}\n",
        "  resposta   = requests.request(\"GET\", url, params=parametros)\n",
        "  objetos    = json.loads(resposta.text)\n",
        "  dados      = objetos['dados']\n",
        "  return dados"
      ],
      "execution_count": null,
      "outputs": []
    },
    {
      "cell_type": "code",
      "metadata": {
        "colab": {
          "base_uri": "https://localhost:8080/"
        },
        "id": "4XrO0ujdYbHv",
        "outputId": "f3e45f5f-b7b9-41eb-c9ba-a5f397b87e0b"
      },
      "source": [
        "detalhe_deputado('204554')  "
      ],
      "execution_count": null,
      "outputs": [
        {
          "output_type": "execute_result",
          "data": {
            "text/plain": [
              "{'cpf': '36607606504',\n",
              " 'dataFalecimento': None,\n",
              " 'dataNascimento': '1965-02-13',\n",
              " 'escolaridade': 'Superior Incompleto',\n",
              " 'id': 204554,\n",
              " 'municipioNascimento': 'Salvador',\n",
              " 'nomeCivil': 'JOSE ABILIO SILVA DE SANTANA',\n",
              " 'redeSocial': [],\n",
              " 'sexo': 'M',\n",
              " 'ufNascimento': 'BA',\n",
              " 'ultimoStatus': {'condicaoEleitoral': 'Titular',\n",
              "  'data': '2019-02-01T11:45',\n",
              "  'descricaoStatus': None,\n",
              "  'email': 'dep.abiliosantana@camara.leg.br',\n",
              "  'gabinete': {'andar': '5',\n",
              "   'email': 'dep.abiliosantana@camara.leg.br',\n",
              "   'nome': '531',\n",
              "   'predio': '4',\n",
              "   'sala': '531',\n",
              "   'telefone': '3215-5531'},\n",
              "  'id': 204554,\n",
              "  'idLegislatura': 56,\n",
              "  'nome': 'Abílio Santana',\n",
              "  'nomeEleitoral': 'Abílio Santana',\n",
              "  'siglaPartido': 'PL',\n",
              "  'siglaUf': 'BA',\n",
              "  'situacao': 'Exercício',\n",
              "  'uri': 'https://dadosabertos.camara.leg.br/api/v2/deputados/204554',\n",
              "  'uriPartido': 'https://dadosabertos.camara.leg.br/api/v2/partidos/37906',\n",
              "  'urlFoto': 'https://www.camara.leg.br/internet/deputado/bandep/204554.jpg'},\n",
              " 'uri': 'https://dadosabertos.camara.leg.br/api/v2/deputados/204554',\n",
              " 'urlWebsite': None}"
            ]
          },
          "metadata": {
            "tags": []
          },
          "execution_count": 5
        }
      ]
    },
    {
      "cell_type": "code",
      "metadata": {
        "colab": {
          "base_uri": "https://localhost:8080/"
        },
        "id": "TVscaeHUYg1G",
        "outputId": "83fda5b8-a003-4d51-ddac-7c131de2f73c"
      },
      "source": [
        "inicio_processo = time()\n",
        "deputado = detalhe_deputado('204521')\n",
        "fim_processo = time()\n",
        "processamento_individual = fim_processo - inicio_processo\n",
        "print('Processamento individual por id:', round( (processamento_individual), 1 ), 'segundos')\n",
        " "
      ],
      "execution_count": null,
      "outputs": [
        {
          "output_type": "stream",
          "text": [
            "Processamento individual por id: 1.0 segundos\n"
          ],
          "name": "stdout"
        }
      ]
    },
    {
      "cell_type": "code",
      "metadata": {
        "id": "-QCDCzrIZEZO"
      },
      "source": [
        "ids = id[:100]"
      ],
      "execution_count": null,
      "outputs": []
    },
    {
      "cell_type": "code",
      "metadata": {
        "colab": {
          "base_uri": "https://localhost:8080/"
        },
        "id": "Bh26uakCY0q2",
        "outputId": "125dc827-6248-493e-e17d-7dab87a73cc8"
      },
      "source": [
        "inicio_processo = time()\n",
        "lista_api = []\n",
        "for i in tqdm(ids):\n",
        "  resultado_individual = detalhe_deputado(i)\n",
        "  lista_api.append(resultado_individual)\n",
        "fim_processo = time()\n",
        "processamento_sequencial = fim_processo - inicio_processo\n",
        "print('Processamento sequencial por id:', round( (processamento_sequencial), 1 ), 'segundos')\n",
        " "
      ],
      "execution_count": null,
      "outputs": [
        {
          "output_type": "stream",
          "text": [
            "100%|██████████| 100/100 [01:09<00:00,  1.45it/s]"
          ],
          "name": "stderr"
        },
        {
          "output_type": "stream",
          "text": [
            "Processamento sequencial por id: 69.1 segundos\n"
          ],
          "name": "stdout"
        },
        {
          "output_type": "stream",
          "text": [
            "\n"
          ],
          "name": "stderr"
        }
      ]
    },
    {
      "cell_type": "code",
      "metadata": {
        "colab": {
          "base_uri": "https://localhost:8080/"
        },
        "id": "PvPm-bDcZffW",
        "outputId": "809b8093-30a2-4825-8fe4-a1255abf0021"
      },
      "source": [
        "len(lista_api)"
      ],
      "execution_count": null,
      "outputs": [
        {
          "output_type": "execute_result",
          "data": {
            "text/plain": [
              "100"
            ]
          },
          "metadata": {
            "tags": []
          },
          "execution_count": 10
        }
      ]
    },
    {
      "cell_type": "code",
      "metadata": {
        "colab": {
          "base_uri": "https://localhost:8080/"
        },
        "id": "m8ykzPAdZjfG",
        "outputId": "929425ce-70b0-4ff6-fe3a-b1291fcb43b8"
      },
      "source": [
        "lista_api[0]"
      ],
      "execution_count": null,
      "outputs": [
        {
          "output_type": "execute_result",
          "data": {
            "text/plain": [
              "{'cpf': '36607606504',\n",
              " 'dataFalecimento': None,\n",
              " 'dataNascimento': '1965-02-13',\n",
              " 'escolaridade': 'Superior Incompleto',\n",
              " 'id': 204554,\n",
              " 'municipioNascimento': 'Salvador',\n",
              " 'nomeCivil': 'JOSE ABILIO SILVA DE SANTANA',\n",
              " 'redeSocial': [],\n",
              " 'sexo': 'M',\n",
              " 'ufNascimento': 'BA',\n",
              " 'ultimoStatus': {'condicaoEleitoral': 'Titular',\n",
              "  'data': '2019-02-01T11:45',\n",
              "  'descricaoStatus': None,\n",
              "  'email': 'dep.abiliosantana@camara.leg.br',\n",
              "  'gabinete': {'andar': '5',\n",
              "   'email': 'dep.abiliosantana@camara.leg.br',\n",
              "   'nome': '531',\n",
              "   'predio': '4',\n",
              "   'sala': '531',\n",
              "   'telefone': '3215-5531'},\n",
              "  'id': 204554,\n",
              "  'idLegislatura': 56,\n",
              "  'nome': 'Abílio Santana',\n",
              "  'nomeEleitoral': 'Abílio Santana',\n",
              "  'siglaPartido': 'PL',\n",
              "  'siglaUf': 'BA',\n",
              "  'situacao': 'Exercício',\n",
              "  'uri': 'https://dadosabertos.camara.leg.br/api/v2/deputados/204554',\n",
              "  'uriPartido': 'https://dadosabertos.camara.leg.br/api/v2/partidos/37906',\n",
              "  'urlFoto': 'https://www.camara.leg.br/internet/deputado/bandep/204554.jpg'},\n",
              " 'uri': 'https://dadosabertos.camara.leg.br/api/v2/deputados/204554',\n",
              " 'urlWebsite': None}"
            ]
          },
          "metadata": {
            "tags": []
          },
          "execution_count": 11
        }
      ]
    },
    {
      "cell_type": "code",
      "metadata": {
        "colab": {
          "base_uri": "https://localhost:8080/"
        },
        "id": "coLJ1pGiaOUG",
        "outputId": "a847e932-7deb-4f5c-97db-dd739726c19c"
      },
      "source": [
        "# Subprocessos para requisição em paralelo na API\n",
        "inicio_processo = time()\n",
        "\n",
        "subprocessos = []\n",
        "pool = ThreadPool(processes=10)\n",
        "\n",
        "for i in tqdm(ids):\n",
        "    resultado_paralelo = pool.apply_async(detalhe_deputado, (i, ))\n",
        "    subprocessos.append(resultado_paralelo)\n",
        "lista_api_paralela = [result.get(timeout=120) for result in tqdm(subprocessos)]\n",
        "\n",
        "fim_processo = time()\n",
        "processamento_paralelo = fim_processo - inicio_processo\n",
        "print('Processamento paralelo dos id:', round( (processamento_paralelo), 1 ), 'segundos')"
      ],
      "execution_count": null,
      "outputs": [
        {
          "output_type": "stream",
          "text": [
            "100%|██████████| 100/100 [00:00<00:00, 22579.16it/s]\n",
            "100%|██████████| 100/100 [00:20<00:00,  4.89it/s]"
          ],
          "name": "stderr"
        },
        {
          "output_type": "stream",
          "text": [
            "Processamento paralelo dos id: 20.5 segundos\n"
          ],
          "name": "stdout"
        },
        {
          "output_type": "stream",
          "text": [
            "\n"
          ],
          "name": "stderr"
        }
      ]
    },
    {
      "cell_type": "code",
      "metadata": {
        "id": "UO-HB6okaYSO"
      },
      "source": [
        "df = pd.DataFrame(lista_api_paralela)"
      ],
      "execution_count": null,
      "outputs": []
    },
    {
      "cell_type": "code",
      "metadata": {
        "colab": {
          "base_uri": "https://localhost:8080/",
          "height": 462
        },
        "id": "68z8M386abht",
        "outputId": "584b6bc0-89c8-49cb-ac33-de2af2ff130d"
      },
      "source": [
        "df.head()"
      ],
      "execution_count": null,
      "outputs": [
        {
          "output_type": "execute_result",
          "data": {
            "text/html": [
              "<div>\n",
              "<style scoped>\n",
              "    .dataframe tbody tr th:only-of-type {\n",
              "        vertical-align: middle;\n",
              "    }\n",
              "\n",
              "    .dataframe tbody tr th {\n",
              "        vertical-align: top;\n",
              "    }\n",
              "\n",
              "    .dataframe thead th {\n",
              "        text-align: right;\n",
              "    }\n",
              "</style>\n",
              "<table border=\"1\" class=\"dataframe\">\n",
              "  <thead>\n",
              "    <tr style=\"text-align: right;\">\n",
              "      <th></th>\n",
              "      <th>id</th>\n",
              "      <th>uri</th>\n",
              "      <th>nomeCivil</th>\n",
              "      <th>ultimoStatus</th>\n",
              "      <th>cpf</th>\n",
              "      <th>sexo</th>\n",
              "      <th>urlWebsite</th>\n",
              "      <th>redeSocial</th>\n",
              "      <th>dataNascimento</th>\n",
              "      <th>dataFalecimento</th>\n",
              "      <th>ufNascimento</th>\n",
              "      <th>municipioNascimento</th>\n",
              "      <th>escolaridade</th>\n",
              "    </tr>\n",
              "  </thead>\n",
              "  <tbody>\n",
              "    <tr>\n",
              "      <th>0</th>\n",
              "      <td>204554</td>\n",
              "      <td>https://dadosabertos.camara.leg.br/api/v2/depu...</td>\n",
              "      <td>JOSE ABILIO SILVA DE SANTANA</td>\n",
              "      <td>{'id': 204554, 'uri': 'https://dadosabertos.ca...</td>\n",
              "      <td>36607606504</td>\n",
              "      <td>M</td>\n",
              "      <td>None</td>\n",
              "      <td>[]</td>\n",
              "      <td>1965-02-13</td>\n",
              "      <td>None</td>\n",
              "      <td>BA</td>\n",
              "      <td>Salvador</td>\n",
              "      <td>Superior Incompleto</td>\n",
              "    </tr>\n",
              "    <tr>\n",
              "      <th>1</th>\n",
              "      <td>204521</td>\n",
              "      <td>https://dadosabertos.camara.leg.br/api/v2/depu...</td>\n",
              "      <td>PAULO SERGIO ABOU ANNI</td>\n",
              "      <td>{'id': 204521, 'uri': 'https://dadosabertos.ca...</td>\n",
              "      <td>08496582841</td>\n",
              "      <td>M</td>\n",
              "      <td>None</td>\n",
              "      <td>[https://www.facebook.com/abou.anni.7, https:/...</td>\n",
              "      <td>1966-11-06</td>\n",
              "      <td>None</td>\n",
              "      <td>SP</td>\n",
              "      <td>São Paulo</td>\n",
              "      <td>Superior</td>\n",
              "    </tr>\n",
              "    <tr>\n",
              "      <th>2</th>\n",
              "      <td>204379</td>\n",
              "      <td>https://dadosabertos.camara.leg.br/api/v2/depu...</td>\n",
              "      <td>ACÁCIO DA SILVA FAVACHO NETO</td>\n",
              "      <td>{'id': 204379, 'uri': 'https://dadosabertos.ca...</td>\n",
              "      <td>74287028287</td>\n",
              "      <td>M</td>\n",
              "      <td>None</td>\n",
              "      <td>[acaciofavacho, deputadofederalacaciofavacho, ...</td>\n",
              "      <td>1983-09-28</td>\n",
              "      <td>None</td>\n",
              "      <td>AP</td>\n",
              "      <td>Macapá</td>\n",
              "      <td>Superior</td>\n",
              "    </tr>\n",
              "    <tr>\n",
              "      <th>3</th>\n",
              "      <td>204560</td>\n",
              "      <td>https://dadosabertos.camara.leg.br/api/v2/depu...</td>\n",
              "      <td>ADOLFO VIANA DE CASTRO NETO</td>\n",
              "      <td>{'id': 204560, 'uri': 'https://dadosabertos.ca...</td>\n",
              "      <td>80123848504</td>\n",
              "      <td>M</td>\n",
              "      <td>None</td>\n",
              "      <td>[]</td>\n",
              "      <td>1981-02-02</td>\n",
              "      <td>None</td>\n",
              "      <td>BA</td>\n",
              "      <td>Salvador</td>\n",
              "      <td>Superior</td>\n",
              "    </tr>\n",
              "    <tr>\n",
              "      <th>4</th>\n",
              "      <td>204528</td>\n",
              "      <td>https://dadosabertos.camara.leg.br/api/v2/depu...</td>\n",
              "      <td>ADRIANA MIGUEL VENTURA</td>\n",
              "      <td>{'id': 204528, 'uri': 'https://dadosabertos.ca...</td>\n",
              "      <td>12519851813</td>\n",
              "      <td>F</td>\n",
              "      <td>None</td>\n",
              "      <td>[adriventurasp, adriventurasp, adriventurasp, ...</td>\n",
              "      <td>1969-03-06</td>\n",
              "      <td>None</td>\n",
              "      <td>SP</td>\n",
              "      <td>São Paulo</td>\n",
              "      <td>Doutorado</td>\n",
              "    </tr>\n",
              "  </tbody>\n",
              "</table>\n",
              "</div>"
            ],
            "text/plain": [
              "       id  ...         escolaridade\n",
              "0  204554  ...  Superior Incompleto\n",
              "1  204521  ...             Superior\n",
              "2  204379  ...             Superior\n",
              "3  204560  ...             Superior\n",
              "4  204528  ...            Doutorado\n",
              "\n",
              "[5 rows x 13 columns]"
            ]
          },
          "metadata": {
            "tags": []
          },
          "execution_count": 14
        }
      ]
    },
    {
      "cell_type": "code",
      "metadata": {
        "colab": {
          "base_uri": "https://localhost:8080/"
        },
        "id": "mGjJq3mIafBW",
        "outputId": "cf4e30f3-8901-4fb1-968e-90623b12e788"
      },
      "source": [
        "print(round( processamento_individual, 1 ), 'segundos foi o tempo de processamento de 01 requisição na API')\n",
        "print(round( processamento_sequencial, 1 ), 'segundos foi o tempo de processamento de 100 requisições sequenciais na API')\n",
        "print(round( processamento_paralelo, 1 ), 'segundos foi o tempo de processamento de 100 requisições paralelas na API')"
      ],
      "execution_count": null,
      "outputs": [
        {
          "output_type": "stream",
          "text": [
            "1.0 segundos foi o tempo de processamento de 01 requisição na API\n",
            "69.1 segundos foi o tempo de processamento de 100 requisições sequenciais na API\n",
            "20.5 segundos foi o tempo de processamento de 100 requisições paralelas na API\n"
          ],
          "name": "stdout"
        }
      ]
    },
    {
      "cell_type": "code",
      "metadata": {
        "colab": {
          "base_uri": "https://localhost:8080/"
        },
        "id": "7crOS5wPaoNd",
        "outputId": "89684727-9542-4aa5-8558-9792b802ab6c"
      },
      "source": [
        "print ('O processamento paralelo utilizou apenas {0:.0%}'.format(processamento_paralelo/processamento_sequencial),\n",
        "       'do tempo do processamento sequencial!')"
      ],
      "execution_count": null,
      "outputs": [
        {
          "output_type": "stream",
          "text": [
            "O processamento paralelo utilizou apenas 30% do tempo do processamento sequencial!\n"
          ],
          "name": "stdout"
        }
      ]
    },
    {
      "cell_type": "code",
      "metadata": {
        "colab": {
          "base_uri": "https://localhost:8080/",
          "height": 351
        },
        "id": "nKEqsk2nasM2",
        "outputId": "fb410748-eba0-4d5b-dad8-0dd4881ff3b6"
      },
      "source": [
        "# Análise comparando processamento sequencial x paralelo\n",
        "x = [processamento_sequencial,processamento_paralelo]\n",
        "y = ['processamento_sequencial','processamento_paralelo']\n",
        "plt.figure(figsize = (7, 5))\n",
        "sns.barplot(x=x, y=y, palette=\"deep\")\n",
        "plt.xlabel('Segundos')\n",
        "plt.plot()"
      ],
      "execution_count": null,
      "outputs": [
        {
          "output_type": "execute_result",
          "data": {
            "text/plain": [
              "[]"
            ]
          },
          "metadata": {
            "tags": []
          },
          "execution_count": 17
        },
        {
          "output_type": "display_data",
          "data": {
            "image/png": "[encoded data removed]",
            "text/plain": [
              "<Figure size 504x360 with 1 Axes>"
            ]
          },
          "metadata": {
            "tags": [],
            "needs_background": "light"
          }
        }
      ]
    },
    {
      "cell_type": "code",
      "metadata": {
        "id": "YrMcDn0LawPN"
      },
      "source": [
        ""
      ],
      "execution_count": null,
      "outputs": []
    }
  ]
}